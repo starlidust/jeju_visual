{
 "cells": [
  {
   "cell_type": "code",
   "execution_count": 1,
   "metadata": {
    "ExecuteTime": {
     "end_time": "2020-12-15T06:08:39.613520Z",
     "start_time": "2020-12-15T06:08:39.606522Z"
    }
   },
   "outputs": [],
   "source": [
    "import pandas as pd\n",
    "import os"
   ]
  },
  {
   "cell_type": "code",
   "execution_count": 2,
   "metadata": {
    "ExecuteTime": {
     "end_time": "2020-12-15T06:08:41.507847Z",
     "start_time": "2020-12-15T06:08:39.615520Z"
    }
   },
   "outputs": [],
   "source": [
    "filelist = os.listdir('./data/')\n",
    "filelist = filelist[1:]\n",
    "datas = {}\n",
    "for i, file in enumerate(filelist):\n",
    "    datas[i] = pd.read_csv(f'./data/{file}')\n",
    "\n",
    "all_df = pd.DataFrame()\n",
    "for i in range(len(datas)):\n",
    "    all_df = pd.concat([all_df, datas[i]])"
   ]
  },
  {
   "cell_type": "markdown",
   "metadata": {},
   "source": [
    "### 데이터확인\n",
    "* OBJECTID, Field1 은 동일 하나만 남기고 삭제\n",
    "* YM 연도와 월로 분리, 데이터상 5~8월이므로 월만 필요\n",
    "* SIDO 데이터는 제주에 한정되므로 모든 값 동일 삭제\n",
    "* Time '시'삭제 후 숫자화\n",
    "* X,Y는 절반이상이 결측, Point_X, Point_Y로 대체가능할것으로 보여 삭제"
   ]
  },
  {
   "cell_type": "code",
   "execution_count": 3,
   "metadata": {
    "ExecuteTime": {
     "end_time": "2020-12-15T06:08:41.512848Z",
     "start_time": "2020-12-15T06:08:41.508847Z"
    }
   },
   "outputs": [
    {
     "data": {
      "text/plain": [
       "(1119429, 16)"
      ]
     },
     "execution_count": 3,
     "metadata": {},
     "output_type": "execute_result"
    }
   ],
   "source": [
    "all_df.shape"
   ]
  },
  {
   "cell_type": "code",
   "execution_count": 4,
   "metadata": {
    "ExecuteTime": {
     "end_time": "2020-12-15T06:08:41.531852Z",
     "start_time": "2020-12-15T06:08:41.514849Z"
    }
   },
   "outputs": [
    {
     "data": {
      "text/html": [
       "<div>\n",
       "<style scoped>\n",
       "    .dataframe tbody tr th:only-of-type {\n",
       "        vertical-align: middle;\n",
       "    }\n",
       "\n",
       "    .dataframe tbody tr th {\n",
       "        vertical-align: top;\n",
       "    }\n",
       "\n",
       "    .dataframe thead th {\n",
       "        text-align: right;\n",
       "    }\n",
       "</style>\n",
       "<table border=\"1\" class=\"dataframe\">\n",
       "  <thead>\n",
       "    <tr style=\"text-align: right;\">\n",
       "      <th></th>\n",
       "      <th>OBJECTID</th>\n",
       "      <th>Field1</th>\n",
       "      <th>YM</th>\n",
       "      <th>SIDO</th>\n",
       "      <th>SIGUNGU</th>\n",
       "      <th>FranClass</th>\n",
       "      <th>Type</th>\n",
       "      <th>Time</th>\n",
       "      <th>TotalSpent</th>\n",
       "      <th>DisSpent</th>\n",
       "      <th>NumofSpent</th>\n",
       "      <th>NumofDisSpent</th>\n",
       "      <th>POINT_X</th>\n",
       "      <th>POINT_Y</th>\n",
       "      <th>X</th>\n",
       "      <th>Y</th>\n",
       "    </tr>\n",
       "  </thead>\n",
       "  <tbody>\n",
       "    <tr>\n",
       "      <th>0</th>\n",
       "      <td>1</td>\n",
       "      <td>1</td>\n",
       "      <td>202005</td>\n",
       "      <td>제주특별자치도</td>\n",
       "      <td>제주시</td>\n",
       "      <td>영세</td>\n",
       "      <td>일반한식</td>\n",
       "      <td>00시</td>\n",
       "      <td>363000</td>\n",
       "      <td>66500</td>\n",
       "      <td>10</td>\n",
       "      <td>2</td>\n",
       "      <td>877005.9834</td>\n",
       "      <td>1.479766e+06</td>\n",
       "      <td>NaN</td>\n",
       "      <td>NaN</td>\n",
       "    </tr>\n",
       "    <tr>\n",
       "      <th>1</th>\n",
       "      <td>2</td>\n",
       "      <td>2</td>\n",
       "      <td>202005</td>\n",
       "      <td>제주특별자치도</td>\n",
       "      <td>제주시</td>\n",
       "      <td>영세</td>\n",
       "      <td>단란주점</td>\n",
       "      <td>00시</td>\n",
       "      <td>1180000</td>\n",
       "      <td>0</td>\n",
       "      <td>3</td>\n",
       "      <td>0</td>\n",
       "      <td>877005.7447</td>\n",
       "      <td>1.479816e+06</td>\n",
       "      <td>NaN</td>\n",
       "      <td>NaN</td>\n",
       "    </tr>\n",
       "    <tr>\n",
       "      <th>2</th>\n",
       "      <td>3</td>\n",
       "      <td>3</td>\n",
       "      <td>202005</td>\n",
       "      <td>제주특별자치도</td>\n",
       "      <td>제주시</td>\n",
       "      <td>중소1</td>\n",
       "      <td>편의점</td>\n",
       "      <td>00시</td>\n",
       "      <td>157670</td>\n",
       "      <td>6850</td>\n",
       "      <td>20</td>\n",
       "      <td>2</td>\n",
       "      <td>877056.6756</td>\n",
       "      <td>1.479616e+06</td>\n",
       "      <td>NaN</td>\n",
       "      <td>NaN</td>\n",
       "    </tr>\n",
       "  </tbody>\n",
       "</table>\n",
       "</div>"
      ],
      "text/plain": [
       "   OBJECTID  Field1      YM     SIDO SIGUNGU FranClass  Type Time  TotalSpent  \\\n",
       "0         1       1  202005  제주특별자치도     제주시        영세  일반한식  00시      363000   \n",
       "1         2       2  202005  제주특별자치도     제주시        영세  단란주점  00시     1180000   \n",
       "2         3       3  202005  제주특별자치도     제주시       중소1   편의점  00시      157670   \n",
       "\n",
       "   DisSpent  NumofSpent  NumofDisSpent      POINT_X       POINT_Y   X   Y  \n",
       "0     66500          10              2  877005.9834  1.479766e+06 NaN NaN  \n",
       "1         0           3              0  877005.7447  1.479816e+06 NaN NaN  \n",
       "2      6850          20              2  877056.6756  1.479616e+06 NaN NaN  "
      ]
     },
     "execution_count": 4,
     "metadata": {},
     "output_type": "execute_result"
    }
   ],
   "source": [
    "all_df.head(3)"
   ]
  },
  {
   "cell_type": "code",
   "execution_count": 6,
   "metadata": {
    "ExecuteTime": {
     "end_time": "2020-12-15T06:08:51.367943Z",
     "start_time": "2020-12-15T06:08:51.359941Z"
    }
   },
   "outputs": [
    {
     "data": {
      "text/plain": [
       "True"
      ]
     },
     "execution_count": 6,
     "metadata": {},
     "output_type": "execute_result"
    }
   ],
   "source": [
    "#길이가 동일함 \n",
    "(all_df.OBJECTID == all_df.Field1).sum() == all_df.shape[0]"
   ]
  },
  {
   "cell_type": "code",
   "execution_count": 12,
   "metadata": {
    "ExecuteTime": {
     "end_time": "2020-12-15T00:31:08.672486Z",
     "start_time": "2020-12-15T00:31:08.508449Z"
    }
   },
   "outputs": [
    {
     "data": {
      "text/plain": [
       "OBJECTID              0\n",
       "Field1                0\n",
       "YM                    0\n",
       "SIDO                  0\n",
       "SIGUNGU               0\n",
       "FranClass             0\n",
       "Type                  0\n",
       "Time                  0\n",
       "TotalSpent            0\n",
       "DisSpent              0\n",
       "NumofSpent            0\n",
       "NumofDisSpent         0\n",
       "POINT_X               0\n",
       "POINT_Y               0\n",
       "X                835164\n",
       "Y                835164\n",
       "dtype: int64"
      ]
     },
     "execution_count": 12,
     "metadata": {},
     "output_type": "execute_result"
    }
   ],
   "source": [
    "#X,Y는 대부분 결측\n",
    "all_df.isna().sum()"
   ]
  },
  {
   "cell_type": "code",
   "execution_count": 24,
   "metadata": {
    "ExecuteTime": {
     "end_time": "2020-12-15T00:39:25.339542Z",
     "start_time": "2020-12-15T00:39:25.322539Z"
    }
   },
   "outputs": [],
   "source": [
    "#YM 월만빼오고 나머지 제거\n",
    "all_df['Month'] = all_df['YM']-202000\n",
    "all_df = all_df.drop(['Field1','YM','X','Y'],axis = 1)\n",
    "\n",
    "#tiem x시는 임의로 결측 99시로 표기 \n",
    "all_df['Time'] = all_df['Time'].apply(lambda x : int(x.replace('시','').replace('x','99')))"
   ]
  },
  {
   "cell_type": "code",
   "execution_count": 115,
   "metadata": {
    "ExecuteTime": {
     "end_time": "2020-12-15T06:01:26.348474Z",
     "start_time": "2020-12-15T06:01:26.071163Z"
    }
   },
   "outputs": [
    {
     "data": {
      "image/png": "[encoded data removed]",
      "text/plain": [
       "<Figure size 864x360 with 2 Axes>"
      ]
     },
     "metadata": {
      "needs_background": "light"
     },
     "output_type": "display_data"
    }
   ],
   "source": [
    "#단순 row수(의미없음)\n",
    "temp = all_df.FranClass.value_counts()\n",
    "temp = temp.reset_index()\n",
    "\n",
    "#color\n",
    "color_list = [plt.cm.tab20(c) for c in np.linspace(0.0, 1.0,5)]\n",
    "\n",
    "plt.figure(figsize=(12,5))\n",
    "#전체\n",
    "ax1= plt.subplot(1,2,1)\n",
    "ax1 = sns.barplot(x = 'index', y = 'FranClass', data= temp, palette = color_list)\n",
    "for p in ax1.patches:\n",
    "    ax1.annotate(p.get_height(), #출력될 숫자\n",
    "               (p.get_x() + p.get_width() / 2., p.get_height()), #출력될 x,y위치\n",
    "               ha = 'center', va = 'center', #중앙부에 오게끔\n",
    "               xytext = (0, 5), #text가 출력될 위치 \n",
    "               textcoords = 'offset points')\n",
    "plt.box(False)\n",
    "plt.title('소상공인 구분')\n",
    "plt.ylable('구분')\n",
    "plt\n",
    "\n",
    "#영세제외\n",
    "ax2= plt.subplot(1,2,2)\n",
    "under = temp.loc[1:,:]\n",
    "ax2 = sns.barplot(x = 'index', y = 'FranClass', data= under,palette = color_list[1:])\n",
    "for p in ax2.patches:\n",
    "    ax2.annotate(p.get_height(), #출력될 숫자\n",
    "               (p.get_x() + p.get_width() / 2., p.get_height()), #출력될 x,y위치\n",
    "               ha = 'center', va = 'center', #중앙부에 오게끔\n",
    "               xytext = (0, 5), #text가 출력될 위치 \n",
    "               textcoords = 'offset points')\n",
    "plt.box(False)\n",
    "plt.title('소상공인 구분(영세제외)')\n",
    "plt.show()"
   ]
  },
  {
   "cell_type": "code",
   "execution_count": 8,
   "metadata": {
    "ExecuteTime": {
     "end_time": "2020-12-17T02:31:05.831655Z",
     "start_time": "2020-12-17T02:31:05.825655Z"
    }
   },
   "outputs": [
    {
     "data": {
      "text/plain": [
       "'D:\\\\Python\\\\Git project\\\\jeju_visual'"
      ]
     },
     "execution_count": 8,
     "metadata": {},
     "output_type": "execute_result"
    }
   ],
   "source": [
    "os.getcwd()"
   ]
  }
 ],
 "metadata": {
  "kernelspec": {
   "display_name": "Python 3",
   "language": "python",
   "name": "python3"
  },
  "toc": {
   "base_numbering": 1,
   "nav_menu": {},
   "number_sections": true,
   "sideBar": true,
   "skip_h1_title": false,
   "title_cell": "Table of Contents",
   "title_sidebar": "Contents",
   "toc_cell": false,
   "toc_position": {},
   "toc_section_display": true,
   "toc_window_display": false
  },
  "varInspector": {
   "cols": {
    "lenName": 16,
    "lenType": 16,
    "lenVar": 40
   },
   "kernels_config": {
    "python": {
     "delete_cmd_postfix": "",
     "delete_cmd_prefix": "del ",
     "library": "var_list.py",
     "varRefreshCmd": "print(var_dic_list())"
    },
    "r": {
     "delete_cmd_postfix": ") ",
     "delete_cmd_prefix": "rm(",
     "library": "var_list.r",
     "varRefreshCmd": "cat(var_dic_list()) "
    }
   },
   "types_to_exclude": [
    "module",
    "function",
    "builtin_function_or_method",
    "instance",
    "_Feature"
   ],
   "window_display": false
  }
 },
 "nbformat": 4,
 "nbformat_minor": 2
}
